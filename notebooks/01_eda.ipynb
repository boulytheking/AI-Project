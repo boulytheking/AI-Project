{
 "cells": [
  {
   "metadata": {},
   "cell_type": "code",
   "outputs": [],
   "execution_count": null,
   "source": [
    "import pandas as pd, seaborn as sns, matplotlib.pyplot as plt\n",
    "\n",
    "train = pd.read_csv(\"data/train_essays.csv\")\n",
    "test  = pd.read_csv(\"data/test_essays.csv\")\n",
    "\n",
    "print(train.head())\n",
    "print(train[\"generated\"].value_counts())\n",
    "\n",
    "sns.countplot(x=\"generated\", data=train)\n",
    "plt.title(\"Répartition IA vs humain\")\n",
    "plt.show()\n"
   ],
   "id": "52249112cfa8f22"
  }
 ],
 "metadata": {},
 "nbformat": 4,
 "nbformat_minor": 5
}
