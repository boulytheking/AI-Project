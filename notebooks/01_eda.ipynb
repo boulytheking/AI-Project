{
 "cells": [
  {
   "metadata": {},
   "cell_type": "code",
   "outputs": [],
   "execution_count": null,
   "source": [
    "import pandas as pd, numpy as np\n",
    "import matplotlib.pyplot as plt, seaborn as sns\n",
    "\n",
    "# 1) charge les données\n",
    "train = pd.read_csv(\"data/train.csv\")   # adapte le nom si besoin\n",
    "test  = pd.read_csv(\"data/test.csv\")\n",
    "\n",
    "# 2) coup d'œil rapide\n",
    "print(train.head())\n",
    "print(train.info())\n",
    "\n",
    "# 3) distribution des classes\n",
    "sns.countplot(x=\"label\", data=train)\n",
    "plt.title(\"Répartition IA vs humain\")\n",
    "plt.show()\n"
   ],
   "id": "52249112cfa8f22"
  }
 ],
 "metadata": {},
 "nbformat": 4,
 "nbformat_minor": 5
}
